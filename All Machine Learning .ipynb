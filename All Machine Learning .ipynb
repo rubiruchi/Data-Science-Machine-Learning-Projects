{
 "cells": [
  {
   "cell_type": "markdown",
   "metadata": {},
   "source": [
    "# 1.Linear Regression"
   ]
  },
  {
   "cell_type": "code",
   "execution_count": null,
   "metadata": {
    "collapsed": true
   },
   "outputs": [],
   "source": [
    "#Import Library\n",
    "#Import other necessary libraries like pandas,\n",
    "#numpy...\n",
    "from sklearn import linear_model\n",
    "#Load Train and Test datasets\n",
    "#Identify feature and response variable(s) and\n",
    "#values must be numeric and numpy arrays\n",
    "x_train=input_variables_values_training_datasets\n",
    "y_train=target_variables_values_training_datasets\n",
    "x_test=input_variables_values_test_datasets\n",
    "#Create linear regression object\n",
    "linear = linear_model.LinearRegression()\n",
    "#Train the model using the training sets and\n",
    "#check score\n",
    "linear.fit(x_train, y_train)\n",
    "linear.score(x_train, y_train)\n",
    "#Equation coefficient and Intercept\n",
    "print('Coefficient: \\n', linear.coef_)\n",
    "print('Intercept: \\n', linear.intercept_)\n",
    "#Predict Output\n",
    "predicted= linear.predict(x_test)"
   ]
  },
  {
   "cell_type": "markdown",
   "metadata": {},
   "source": [
    "# 2.Logistic Regression"
   ]
  },
  {
   "cell_type": "code",
   "execution_count": null,
   "metadata": {
    "collapsed": true
   },
   "outputs": [],
   "source": [
    "#Import Library\n",
    "from sklearn.linear_model import LogisticRegression\n",
    "#Assumed you have, X (predictor) and Y (target)\n",
    "#for training data set and x_test(predictor)\n",
    "#of test_dataset\n",
    "#Create logistic regression object\n",
    "model = LogisticRegression()\n",
    "#Train the model using the training sets\n",
    "#and check score\n",
    "model.fit(X, y)\n",
    "model.score(X, y)\n",
    "#Equation coefficient and Intercept\n",
    "print('Coefficient: \\n', model.coef_)\n",
    "print('Intercept: \\n', model.intercept_)\n",
    "#Predict Output\n",
    "predicted= model.predict(x_test)"
   ]
  },
  {
   "cell_type": "markdown",
   "metadata": {},
   "source": [
    "# 3.Decision Tree "
   ]
  },
  {
   "cell_type": "code",
   "execution_count": null,
   "metadata": {
    "collapsed": true
   },
   "outputs": [],
   "source": [
    "#Import Library\n",
    "#Import other necessary libraries like pandas, numpy...\n",
    "from sklearn import tree\n",
    "#Assumed you have, X (predictor) and Y (target) for\n",
    "#training data set and x_test(predictor) of\n",
    "#test_dataset\n",
    "#Create tree object\n",
    "model = tree.DecisionTreeClassifier(criterion='gini')\n",
    "#for classification, here you can change the\n",
    "#algorithm as gini or entropy (information gain) by\n",
    "#default it is gini\n",
    "#model = tree.DecisionTreeRegressor() for\n",
    "#regression\n",
    "#Train the model using the training sets and check\n",
    "#score\n",
    "model.fit(X, y)\n",
    "model.score(X, y)\n",
    "#Predict Output\n",
    "predicted= model.predict(x_test)"
   ]
  },
  {
   "cell_type": "markdown",
   "metadata": {},
   "source": [
    "# 4.Super Vector Machine (SVM)"
   ]
  },
  {
   "cell_type": "code",
   "execution_count": null,
   "metadata": {
    "collapsed": true
   },
   "outputs": [],
   "source": [
    "#Import Library\n",
    "from sklearn import svm\n",
    "#Assumed you have, X (predictor) and Y (target) for\n",
    "#training data set and x_test(predictor) of test_dataset\n",
    "#Create SVM classification object\n",
    "model = svm.svc()\n",
    "#there are various options associated\n",
    "with it, this is simple for classification.\n",
    "#Train the model using the training sets and check\n",
    "#score\n",
    "model.fit(X, y)\n",
    "model.score(X, y)\n",
    "#Predict Output\n",
    "predicted= model.predict(x_test)"
   ]
  },
  {
   "cell_type": "markdown",
   "metadata": {},
   "source": [
    "# 5.Naive Bayes"
   ]
  },
  {
   "cell_type": "code",
   "execution_count": null,
   "metadata": {
    "collapsed": true
   },
   "outputs": [],
   "source": [
    "#Import Library\n",
    "from sklearn.naive_bayes import GaussianNB\n",
    "#Assumed you have, X (predictor) and Y (target) for\n",
    "#training data set and x_test(predictor) of test_dataset\n",
    "#Create SVM classification object model = GaussianNB()\n",
    "#there is other distribution for multinomial classes\n",
    "like Bernoulli Naive Bayes\n",
    "#Train the model using the training sets and check\n",
    "#score\n",
    "model.fit(X, y)\n",
    "#Predict Output\n",
    "predicted= model.predict(x_test)"
   ]
  },
  {
   "cell_type": "markdown",
   "metadata": {},
   "source": [
    "# 6.KNN (K- Nearest Neighbours)"
   ]
  },
  {
   "cell_type": "code",
   "execution_count": null,
   "metadata": {
    "collapsed": true
   },
   "outputs": [],
   "source": [
    "#Import Library\n",
    "from sklearn.neighbors import KNeighborsClassifier\n",
    "#Assumed you have, X (predictor) and Y (target) for\n",
    "#training data set and x_test(predictor) of test_dataset\n",
    "#Create KNeighbors classifier object model\n",
    "KNeighborsClassifier(n_neighbors=6)\n",
    "#default value for n_neighbors is 5\n",
    "#Train the model using the training sets and check score\n",
    "model.fit(X, y)\n",
    "#Predict Output\n",
    "predicted= model.predict(x_test)"
   ]
  },
  {
   "cell_type": "markdown",
   "metadata": {},
   "source": [
    "# 7.K-Means"
   ]
  },
  {
   "cell_type": "code",
   "execution_count": null,
   "metadata": {
    "collapsed": true
   },
   "outputs": [],
   "source": [
    "#Import Library\n",
    "from sklearn.cluster import KMeans\n",
    "#Assumed you have, X (attributes) for training data set\n",
    "#and x_test(attributes) of test_dataset\n",
    "#Create KNeighbors classifier object model\n",
    "k_means = KMeans(n_clusters=3, random_state=0)\n",
    "#Train the model using the training sets and check score\n",
    "model.fit(X)\n",
    "#Predict Output\n",
    "predicted= model.predict(x_test)"
   ]
  },
  {
   "cell_type": "markdown",
   "metadata": {},
   "source": [
    "# 8. Random Forest"
   ]
  },
  {
   "cell_type": "code",
   "execution_count": null,
   "metadata": {
    "collapsed": true
   },
   "outputs": [],
   "source": [
    "#Import Library\n",
    "from sklearn.ensemble import RandomForestClassifier\n",
    "#Assumed you have, X (predictor) and Y (target) for\n",
    "#training data set and x_test(predictor) of test_dataset\n",
    "#Create Random Forest object\n",
    "model= RandomForestClassifier()\n",
    "#Train the model using the training sets and check score\n",
    "model.fit(X, y)\n",
    "#Predict Output\n",
    "predicted= model.predict(x_test)"
   ]
  },
  {
   "cell_type": "markdown",
   "metadata": {},
   "source": [
    "# 9.Dimension Reduction Algorithm"
   ]
  },
  {
   "cell_type": "code",
   "execution_count": null,
   "metadata": {
    "collapsed": true
   },
   "outputs": [],
   "source": [
    "#Import Library\n",
    "from sklearn import decomposition\n",
    "#Assumed you have training and test data set as train and\n",
    "#test\n",
    "#Create PCA object pca= decomposition.PCA(n_components=k)\n",
    "#default value of k =min(n_sample, n_features)\n",
    "#For Factor analysis\n",
    "#fa= decomposition.FactorAnalysis()\n",
    "#Reduced the dimension of training dataset using PCA\n",
    "train_reduced = pca.fit_transform(train)\n",
    "#Reduced the dimension of test dataset\n",
    "test_reduced = pca.transform(test)"
   ]
  },
  {
   "cell_type": "markdown",
   "metadata": {},
   "source": [
    "# 10.Gradient Bossting ADABOOST"
   ]
  },
  {
   "cell_type": "code",
   "execution_count": null,
   "metadata": {
    "collapsed": true
   },
   "outputs": [],
   "source": [
    "#Import Library\n",
    "from sklearn.ensemble import GradientBoostingClassifier\n",
    "#Assumed you have, X (predictor) and Y (target) for\n",
    "#training data set and x_test(predictor) of test_dataset\n",
    "#Create Gradient Boosting Classifier object\n",
    "model= GradientBoostingClassifier(n_estimators=100, \\\n",
    "learning_rate=1.0, max_depth=1, random_state=0)\n",
    "#Train the model using the training sets and check score\n",
    "model.fit(X, y)\n",
    "#Predict Output\n",
    "predicted= model.predict(x_test)"
   ]
  },
  {
   "cell_type": "code",
   "execution_count": null,
   "metadata": {
    "collapsed": true
   },
   "outputs": [],
   "source": []
  },
  {
   "cell_type": "code",
   "execution_count": null,
   "metadata": {
    "collapsed": true
   },
   "outputs": [],
   "source": []
  }
 ],
 "metadata": {
  "kernelspec": {
   "display_name": "Python 3",
   "language": "python",
   "name": "python3"
  },
  "language_info": {
   "codemirror_mode": {
    "name": "ipython",
    "version": 3
   },
   "file_extension": ".py",
   "mimetype": "text/x-python",
   "name": "python",
   "nbconvert_exporter": "python",
   "pygments_lexer": "ipython3",
   "version": "3.6.3"
  }
 },
 "nbformat": 4,
 "nbformat_minor": 2
}
